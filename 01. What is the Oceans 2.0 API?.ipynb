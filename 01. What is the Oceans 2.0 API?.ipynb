{
 "cells": [
  {
   "cell_type": "markdown",
   "metadata": {},
   "source": [
    "# What is the Oceans 2.0 API?\n",
    "\n",
    "The Oceans 2.0 API provides a collection of public [web services](https://en.wikipedia.org/wiki/Web_service) that allow access to the many Terabytes of data collected by ONC, be it in the form of images, video, audio, raw files or any of the more than 120 [data products](https://wiki.oceannetworks.ca/display/O2A/Available+Data+Products) available.\n",
    "\n"
   ]
  }
 ],
 "metadata": {
  "kernelspec": {
   "display_name": "Python 3",
   "language": "python",
   "name": "python3"
  }
 },
 "nbformat": 4,
 "nbformat_minor": 2
}
