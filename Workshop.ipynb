{
 "cells": [
  {
   "cell_type": "markdown",
   "metadata": {},
   "source": [
    "# Quick start\n",
    "\n",
    "Follow this guide while running all the code blocks to get a quick overview of the API capabilities. You can run code cells by selecting them and pressing the **Run** button or with the shortcut **Ctrl+ENTER**."
   ]
  },
  {
   "cell_type": "markdown",
   "metadata": {},
   "source": [
    "Before we begin:\n",
    "1. Remember to replace your token in every code block where it says **MY_TOKEN**\n",
    "2. **Run the following cell** once to install the Python onc client:"
   ]
  },
  {
   "cell_type": "code",
   "execution_count": null,
   "metadata": {
    "scrolled": true
   },
   "outputs": [],
   "source": [
    "# Install the \"onc\" pip package in the current Jupyter kernel (pip install onc)\n",
    "import sys\n",
    "!{sys.executable} -m pip install onc --upgrade\n",
    "\n",
    "MY_TOKEN = '22ec8261-50e4-44f3-8e35-a4cf80454ff5'"
   ]
  },
  {
   "cell_type": "markdown",
   "metadata": {},
   "source": [
    "## 1. Searching with discovery methods\n",
    "\n",
    "To download ONC data, you need to specify the type of data you require and where in particular (i.e. location, device) it originates from.\n",
    "\n",
    "In the Oceans 2.0 API, there's a unique code that identifies every location, device, property, data product type, etc. You include these codes in a group of filters that determine the data you're interested in.\n",
    "\n",
    "Discovery methods allow you to explore the hierarchy of the ONC database to obtain the codes for your filters (they work like a \"search\" function).\n",
    "\n",
    "The example below uses the getLocations method to search for locations that include _\"Burrard\"_ in their name (i.e. _\"Burrard Inlet\"_):"
   ]
  },
  {
   "cell_type": "code",
   "execution_count": null,
   "metadata": {},
   "outputs": [],
   "source": [
    "from onc.onc import ONC\n",
    "onc = ONC('22ec8261-50e4-44f3-8e35-a4cf80454ff5')\n",
    "\n",
    "filters = {'locationName': 'Burrard'}\n",
    "result = onc.getLocations(filters)\n",
    " \n",
    "onc.print(result)"
   ]
  },
  {
   "cell_type": "markdown",
   "metadata": {},
   "source": [
    "*Use the onc.print() method to print any result returned by the client library in a format easier to read.*\n",
    "\n",
    "The previous code prints a list with a location that matches the search filters provided; this location includes a \"locationCode\" that can be used to continue searching \"inside\" it, as in the following examples:"
   ]
  },
  {
   "cell_type": "code",
   "execution_count": null,
   "metadata": {},
   "outputs": [],
   "source": [
    "# what device categories are available here?\n",
    "result = onc.getDeviceCategories({'locationCode': 'BIIP'})\n",
    "onc.print(result)"
   ]
  },
  {
   "cell_type": "code",
   "execution_count": null,
   "metadata": {},
   "outputs": [],
   "source": [
    "# what properties are available for the CTD category at this location?\n",
    "result = onc.getProperties({'locationCode': 'BIIP', 'deviceCategoryCode': 'CTD'})\n",
    "onc.print(result)"
   ]
  },
  {
   "cell_type": "code",
   "execution_count": null,
   "metadata": {},
   "outputs": [],
   "source": [
    "# what data product types are available for the CTD category at this location?\n",
    "result = onc.getDataProducts({'locationCode': 'BIIP', 'deviceCategoryCode': 'CTD'})\n",
    "onc.print(result)"
   ]
  },
  {
   "cell_type": "markdown",
   "metadata": {},
   "source": [
    "## 2. Obtaining sensor readings in (near) real-time\n",
    "\n",
    "Once you determine the exact filters that identify the data you are interested in, there are 3 different methods available to download it.\n",
    "\n",
    "One method allows you to directly download time-series of sensor readings for a given timeframe.\n",
    "\n",
    "In the following example, we obtain 5 seconds of conductivity readings from the CTD:"
   ]
  },
  {
   "cell_type": "code",
   "execution_count": null,
   "metadata": {},
   "outputs": [],
   "source": [
    "filters = {\n",
    "  'locationCode': 'BIIP',\n",
    "  'deviceCategoryCode': 'CTD',\n",
    "  'propertyCode': 'conductivity',\n",
    "  'dateFrom': '2019-06-20T00:00:00.000Z',\n",
    "  'dateTo': '2019-06-20T00:00:05.000Z'\n",
    "}\n",
    "result = onc.getDirectByLocation(filters)\n",
    "onc.print(result)"
   ]
  },
  {
   "cell_type": "markdown",
   "metadata": {},
   "source": [
    "The result includes matching lists of \"values\" and \"sampleTimes\". We also use the property code \"conductivity\" to limit results to a specific property available in this CTD (where did we get this property from?).\n",
    "\n",
    "Note that we can also get the raw, unclean readings directly from the device, using the **getDirectRawByLocation()** method:"
   ]
  },
  {
   "cell_type": "code",
   "execution_count": null,
   "metadata": {},
   "outputs": [],
   "source": [
    "filters = {\n",
    "  'locationCode': 'BIIP',\n",
    "  'deviceCategoryCode': 'CTD',\n",
    "  'dateFrom': '2019-06-20T00:00:00.000Z',\n",
    "  'dateTo': '2019-06-20T00:00:05.000Z'\n",
    "}\n",
    "result = onc.getDirectRawByLocation(filters)\n",
    "onc.print(result)"
   ]
  },
  {
   "cell_type": "markdown",
   "metadata": {},
   "source": [
    "## 3. Downloading data products\n",
    "\n",
    "Another method is to request the ONC servers to generate a custom data product the same way as in our **Oceans 2.0 Data Search**; This is done through the data product download methods.\n",
    "\n",
    "The following example downloads two PNG files with plots for 30 seconds of data from a CTD (find them in the **\"output\"** folder of your jupyter main page):"
   ]
  },
  {
   "cell_type": "code",
   "execution_count": null,
   "metadata": {},
   "outputs": [],
   "source": [
    "filters = {\n",
    "  'locationCode': 'BIIP',\n",
    "  'deviceCategoryCode': 'CTD',\n",
    "  'dataProductCode': 'TSSP',\n",
    "  'extension': 'png',\n",
    "  'dateFrom': '2019-06-20T00:00:00.000Z',\n",
    "  'dateTo': '2019-06-20T00:30:00.000Z',\n",
    "  'dpo_qualityControl': '1',\n",
    "  'dpo_resample': 'none'\n",
    "}\n",
    "result = onc.orderDataProduct(filters, includeMetadataFile=False)\n",
    " \n",
    "onc.print(result)"
   ]
  },
  {
   "cell_type": "markdown",
   "metadata": {},
   "source": [
    "The filters above include codes for **location**, **deviceCategory** and **dataProduct**, as well as the file **extension** and a time interval. They also include a couple of filters to configure this specific data product type (starting with the **\"dpo_\"** prefix) which can be obtained from the Data Product Options documentation. You can download more than 120 different types of data products including audio & video."
   ]
  },
  {
   "cell_type": "markdown",
   "metadata": {},
   "source": [
    "## 4. Downloading archived files\n",
    "\n",
    "A faster way to download data products (if it suits your need) is to leverage how ONC scripts auto-generate and archive data products of different types at set time intervals. You can directly download these data product files from our files archive, as long as you know their unique filename.\n",
    "\n",
    "In the following example, we get the list of archived files available for a camera at Ridley Island (in a certain time span):"
   ]
  },
  {
   "cell_type": "code",
   "execution_count": null,
   "metadata": {},
   "outputs": [],
   "source": [
    "# get the list of files\n",
    "filters = {\n",
    "    'locationCode': 'RISS',\n",
    "    'deviceCategoryCode': 'VIDEOCAM',\n",
    "    'dateFrom': '2016-12-01T00:00:00.000Z',\n",
    "    'dateTo'  : '2016-12-01T00:05:00.000Z'\n",
    "}\n",
    "result = onc.getListByLocation(filters, allPages=True)\n",
    "onc.print(result)"
   ]
  },
  {
   "cell_type": "markdown",
   "metadata": {},
   "source": [
    "Once we have the file name, you can use the method **\"getFile()\"** to download individual files:"
   ]
  },
  {
   "cell_type": "code",
   "execution_count": null,
   "metadata": {},
   "outputs": [],
   "source": [
    "# download one of the files\n",
    "onc.getFile('AXISQ6044PTZACCC8E334C53_201601.000Z.jpg')"
   ]
  },
  {
   "cell_type": "markdown",
   "metadata": {},
   "source": [
    "You can also use the method **\"getDirectFiles()\"** to download all the files that match your filters."
   ]
  },
  {
   "cell_type": "markdown",
   "metadata": {},
   "source": [
    "## 5. Closing comments\n",
    "\n",
    "There are many other methods in the client libraries that can help you grab the data you want. Take a quick look at our [Client Libraries Documentation](https://wiki.oceannetworks.ca/display/O2A/Client+Libraries) to see what's possible, or ask your Data Services Specialist if you have other questions.\n",
    "\n",
    "Happy scripting!"
   ]
  },
  {
   "cell_type": "code",
   "execution_count": null,
   "metadata": {},
   "outputs": [],
   "source": []
  }
 ],
 "metadata": {
  "kernelspec": {
   "display_name": "Python 3",
   "language": "python",
   "name": "python3"
  },
  "language_info": {
   "codemirror_mode": {
    "name": "ipython",
    "version": 3
   },
   "file_extension": ".py",
   "mimetype": "text/x-python",
   "name": "python",
   "nbconvert_exporter": "python",
   "pygments_lexer": "ipython3",
   "version": "3.7.3"
  }
 },
 "nbformat": 4,
 "nbformat_minor": 2
}
