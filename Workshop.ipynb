{
 "cells": [
  {
   "cell_type": "markdown",
   "metadata": {},
   "source": [
    "# Workshop practice\n",
    "\n",
    "Fill in the blanks **only using API calls**.\n",
    "\n",
    "Reveal the answer to each question by selecting the text below each code block."
   ]
  },
  {
   "cell_type": "markdown",
   "metadata": {},
   "source": [
    "*Before we begin, **run this cell** to install the Python onc client:*"
   ]
  },
  {
   "cell_type": "code",
   "execution_count": 9,
   "metadata": {},
   "outputs": [
    {
     "name": "stdout",
     "output_type": "stream",
     "text": [
      "Collecting onc\n",
      "  Downloading https://files.pythonhosted.org/packages/f1/e7/e757de10e45ed29d59400ef2494ad49869d963acb459fa839452c8d4b57d/onc-2.3.5-py3-none-any.whl\n",
      "Requirement already satisfied, skipping upgrade: requests in /opt/conda/lib/python3.7/site-packages (from onc) (2.22.0)\n",
      "Requirement already satisfied, skipping upgrade: numpy in /opt/conda/lib/python3.7/site-packages (from onc) (1.17.1)\n",
      "Requirement already satisfied, skipping upgrade: urllib3 in /opt/conda/lib/python3.7/site-packages (from onc) (1.25.3)\n",
      "Requirement already satisfied, skipping upgrade: humanize in /opt/conda/lib/python3.7/site-packages (from onc) (0.5.1)\n",
      "Requirement already satisfied, skipping upgrade: python-dateutil in /opt/conda/lib/python3.7/site-packages (from onc) (2.8.0)\n",
      "Requirement already satisfied, skipping upgrade: certifi>=2017.4.17 in /opt/conda/lib/python3.7/site-packages (from requests->onc) (2019.6.16)\n",
      "Requirement already satisfied, skipping upgrade: idna<2.9,>=2.5 in /opt/conda/lib/python3.7/site-packages (from requests->onc) (2.8)\n",
      "Requirement already satisfied, skipping upgrade: chardet<3.1.0,>=3.0.2 in /opt/conda/lib/python3.7/site-packages (from requests->onc) (3.0.4)\n",
      "Requirement already satisfied, skipping upgrade: six>=1.5 in /opt/conda/lib/python3.7/site-packages (from python-dateutil->onc) (1.12.0)\n",
      "Installing collected packages: onc\n",
      "  Found existing installation: onc 2.3.4\n",
      "    Uninstalling onc-2.3.4:\n",
      "      Successfully uninstalled onc-2.3.4\n",
      "Successfully installed onc-2.3.5\n"
     ]
    }
   ],
   "source": [
    "# Install the \"onc\" pip package in the current Jupyter kernel (pip install onc)\n",
    "import sys\n",
    "!{sys.executable} -m pip install onc --upgrade"
   ]
  },
  {
   "cell_type": "markdown",
   "metadata": {},
   "source": [
    "**Example: What is the depth of the location \"Burrard Inlet Underwater Network\"?**"
   ]
  },
  {
   "cell_type": "code",
   "execution_count": 10,
   "metadata": {},
   "outputs": [
    {
     "name": "stdout",
     "output_type": "stream",
     "text": [
      "[\n",
      "    {\n",
      "        \"deployments\": 8,\n",
      "        \"locationName\": \"Burrard Inlet Underwater Network\",\n",
      "        \"depth\": 39.0,\n",
      "        \"bbox\": {\n",
      "            \"maxDepth\": 39.0,\n",
      "            \"maxLat\": 49.30103,\n",
      "            \"maxLon\": -123.10881,\n",
      "            \"minDepth\": 39.0,\n",
      "            \"minLat\": 49.30103,\n",
      "            \"minLon\": -123.10881\n",
      "        },\n",
      "        \"description\": \"Depth: 39 m Latitude: 49.30103  Longitude: -123.10881 Type: Stationary platform Description: Community Observatory Underwater Station\",\n",
      "        \"hasDeviceData\": true,\n",
      "        \"lon\": -123.10881,\n",
      "        \"locationCode\": \"BIIP\",\n",
      "        \"hasPropertyData\": false,\n",
      "        \"lat\": 49.30103,\n",
      "        \"dataSearchURL\": \"http://data.oceannetworks.ca/DataSearch?location=BIIP\"\n",
      "    },\n",
      "    {\n",
      "        \"deployments\": 2,\n",
      "        \"locationName\": \"Burrard Inlet Shore Station\",\n",
      "        \"depth\": -4.0,\n",
      "        \"bbox\": {\n",
      "            \"maxDepth\": -4.0,\n",
      "            \"maxLat\": 49.300208,\n",
      "            \"maxLon\": -123.116539,\n",
      "            \"minDepth\": -4.0,\n",
      "            \"minLat\": 49.300208,\n",
      "            \"minLon\": -123.116539\n",
      "        },\n",
      "        \"description\": \"Depth: -4 m Latitude: 49.300208  Longitude: -123.116539 Type: Stationary platform Description: Community Observatory Shore Station\",\n",
      "        \"hasDeviceData\": true,\n",
      "        \"lon\": -123.116539,\n",
      "        \"locationCode\": \"BISS\",\n",
      "        \"hasPropertyData\": false,\n",
      "        \"lat\": 49.300208,\n",
      "        \"dataSearchURL\": \"http://data.oceannetworks.ca/DataSearch?location=BISS\"\n",
      "    }\n",
      "]\n"
     ]
    }
   ],
   "source": [
    "from onc.onc import ONC\n",
    "onc = ONC('22ec8261-50e4-44f3-8e35-a4cf80454ff5')\n",
    "\n",
    "filters = {'locationName': 'Burrard Inlet'}\n",
    "result = onc.getLocations(filters)\n",
    "\n",
    "onc.print(result)"
   ]
  },
  {
   "cell_type": "markdown",
   "metadata": {},
   "source": [
    "Answer: 39 meters"
   ]
  },
  {
   "cell_type": "markdown",
   "metadata": {},
   "source": [
    "### Questions:\n",
    "\n",
    "1. When was the device WET Labs ECO FLNTU 1087 last deployed?\n",
    "2. Does the location Barkley Canyon / Axis (BACAX) have the \"density\" property?\n",
    "3. What are the dataProductCodes for data products with .mat extension?\n",
    "4. Grab 5 seconds of raw readings from a CTD in location with code JDATF\n",
    "5. Download from the archive all .mp3 files from hydrophones in the location SEVIP in the last hour\n",
    "6. Download one .mp4 video from a camera at location code RISS"
   ]
  },
  {
   "cell_type": "code",
   "execution_count": null,
   "metadata": {},
   "outputs": [],
   "source": []
  }
 ],
 "metadata": {
  "kernelspec": {
   "display_name": "Python 3",
   "language": "python",
   "name": "python3"
  },
  "language_info": {
   "codemirror_mode": {
    "name": "ipython",
    "version": 3
   },
   "file_extension": ".py",
   "mimetype": "text/x-python",
   "name": "python",
   "nbconvert_exporter": "python",
   "pygments_lexer": "ipython3",
   "version": "3.7.3"
  }
 },
 "nbformat": 4,
 "nbformat_minor": 2
}
