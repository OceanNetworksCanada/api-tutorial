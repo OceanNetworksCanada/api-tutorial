{
 "cells": [
  {
   "cell_type": "markdown",
   "metadata": {},
   "source": [
    "# Workshop practice\n",
    "\n",
    "Fill in the blanks **only using API calls**.\n",
    "\n",
    "Reveal the answer to each question by selecting the text below each code block."
   ]
  },
  {
   "cell_type": "markdown",
   "metadata": {},
   "source": [
    "*Before we begin:\n",
    "1. Fill in your token in MY_TOKEN\n",
    "2. **run this cell** to install the Python onc client:"
   ]
  },
  {
   "cell_type": "code",
   "execution_count": null,
   "metadata": {},
   "outputs": [],
   "source": [
    "# Install the \"onc\" pip package in the current Jupyter kernel (pip install onc)\n",
    "import sys\n",
    "!{sys.executable} -m pip install onc --upgrade\n",
    "\n",
    "MY_TOKEN = '22ec8261-50e4-44f3-8e35-a4cf80454ff5'"
   ]
  },
  {
   "cell_type": "markdown",
   "metadata": {},
   "source": [
    "## Searching with discovery methods\n",
    "\n",
    "To download ONC data, you need to specify the type of data you require and where in particular (i.e. location, device) it originates from.\n",
    "\n",
    "In the Oceans 2.0 API, there's a unique code that identifies every location, device, property, data product type, etc. You include these codes in a group of filters that determine the data you're interested in.\n",
    "\n",
    "Discovery methods allow you to explore the hierarchy of the ONC database to obtain the codes for your filters (they work like a \"search\" function).\n",
    "\n",
    "The example below uses the getLocations method to search for locations that include \"Burrard\" in their name (i.e. \"Burrard Inlet\"):"
   ]
  },
  {
   "cell_type": "code",
   "execution_count": null,
   "metadata": {},
   "outputs": [],
   "source": [
    "from onc.onc import ONC\n",
    "onc = ONC(MY_TOKEN)\n",
    "\n",
    "filters = {'locationName': 'Burrard'}\n",
    "result = onc.getLocations(filters)\n",
    " \n",
    "onc.print(result)"
   ]
  },
  {
   "cell_type": "markdown",
   "metadata": {},
   "source": [
    "*Use the onc.print()  method to print any result returned by the client library in a format easier to read. You can find more information on this function at the Utility methods documentation.*\n",
    "\n",
    "The previous code prints a list with a location that matches the search filters provided; this location includes a \"locationCode\" that can be used to continue searching \"inside\" it, as in the following example:"
   ]
  },
  {
   "cell_type": "code",
   "execution_count": null,
   "metadata": {},
   "outputs": [],
   "source": [
    "# what device categories are available here?\n",
    "result = onc.getDeviceCategories({'locationCode': 'BIIP'})\n",
    "onc.print(result)"
   ]
  },
  {
   "cell_type": "code",
   "execution_count": null,
   "metadata": {},
   "outputs": [],
   "source": [
    "# what data product types are available for the CTD category at this location?\n",
    "result = onc.getDataProducts({'locationCode': 'BIIP', 'deviceCategoryCode': 'CTD'})\n",
    "onc.print(result)"
   ]
  },
  {
   "cell_type": "markdown",
   "metadata": {},
   "source": [
    "## 3. Downloading data products\n",
    "\n",
    "Once you determine the exact dictionary of filters that identifies the data you are interested in, there are multiple methods to download it.\n",
    "\n",
    "One method is to request the ONC servers to generate a custom data product with the data; This is done through the data product download methods.\n",
    "\n",
    "The following example downloads two PNG files with plots for 30 seconds of data from a CTD (find them in the **\"output\"** folder of your jupyter webpage):"
   ]
  },
  {
   "cell_type": "code",
   "execution_count": null,
   "metadata": {},
   "outputs": [],
   "source": [
    "filters = {\n",
    "  'locationCode': 'BIIP',\n",
    "  'deviceCategoryCode': 'CTD',\n",
    "  'dataProductCode': 'TSSP',\n",
    "  'extension': 'png',\n",
    "  'dateFrom': '2019-06-20T00:00:00.000Z',\n",
    "  'dateTo': '2019-06-20T00:30:00.000Z',\n",
    "  'dpo_qualityControl': '1',\n",
    "  'dpo_resample': 'none'\n",
    "}\n",
    "result = onc.orderDataProduct(filters, includeMetadataFile=False)\n",
    " \n",
    "onc.print(result)"
   ]
  },
  {
   "cell_type": "markdown",
   "metadata": {},
   "source": [
    "The filters above include codes for location, deviceCategory and dataProduct, as well as the file extension and a time interval (in UTC). They also include a couple of filters to configure this specific data product type (starting with the \"dpo_\" prefix) which can be obtained from the Data Product Options documentation. You can download more than 120 different types of data products including audio & video.\n",
    "\n",
    "You can continue reading about Data Product Download methods or review Code examples.\n",
    "\n",
    "## 4. Obtaining sensor readings in (near) real-time\n",
    "\n",
    "Another method to obtain ONC data is by directly obtaining time-series of sensor readings (available as soon as they reach our database).\n",
    "\n",
    "In the following example, we obtain 5 seconds of conductivity readings from the CTD:"
   ]
  },
  {
   "cell_type": "code",
   "execution_count": null,
   "metadata": {},
   "outputs": [],
   "source": [
    "filters = {\n",
    "  'locationCode': 'BIIP',\n",
    "  'deviceCategoryCode': 'CTD',\n",
    "  'propertyCode': 'conductivity',\n",
    "  'dateFrom': '2019-06-20T00:00:00.000Z',\n",
    "  'dateTo': '2019-06-20T00:00:05.000Z'\n",
    "}\n",
    "result = onc.getDirectByLocation(filters)\n",
    "onc.print(result)"
   ]
  },
  {
   "cell_type": "markdown",
   "metadata": {},
   "source": [
    "The result includes matching lists of \"values\" and \"sampleTimes\" (increases performance for long time ranges). We also use the property code \"conductivity\" to limit results to a specific property available in this CTD.\n",
    "\n",
    "You can continue reading about Near real-time data access methods or review Code examples.\n",
    "\n",
    "## 5. Downloading archived files\n",
    "\n",
    "ONC scripts auto-generate and archive data products of different types at set time intervals. You can directly download these data product files from our files archive, as long as you know their unique filename.\n",
    "\n",
    "In the following example, we get the list of archived files available for a camera at Ridley Island (in a certain time span), and download one of the files:"
   ]
  },
  {
   "cell_type": "code",
   "execution_count": null,
   "metadata": {},
   "outputs": [],
   "source": [
    "# get the list of files\n",
    "filters = {\n",
    "    'locationCode': 'RISS',\n",
    "    'deviceCategoryCode': 'VIDEOCAM',\n",
    "    'dateFrom': '2016-12-01T00:00:00.000Z',\n",
    "    'dateTo'  : '2016-12-01T00:05:00.000Z'\n",
    "}\n",
    "result = onc.getListByLocation(filters, allPages=True)\n",
    "onc.print(result)\n",
    " \n",
    "# download one of the files\n",
    "onc.getFile('AXISQ6044PTZACCC8E334C53_20161201T000001.000Z.jpg')"
   ]
  },
  {
   "cell_type": "markdown",
   "metadata": {},
   "source": [
    "You can use the method \"getFile()\" as above to download individual files or the method \"getDirectFiles()\" to download all the files that match your filters.\n",
    "\n",
    "You can continue reading about Archive file download methods or review Code examples."
   ]
  },
  {
   "cell_type": "markdown",
   "metadata": {},
   "source": [
    "### Workshop questions:\n",
    "\n",
    "1. When was the device WET Labs ECO FLNTU 1087 last deployed?\n",
    "2. Does the location Barkley Canyon / Axis (BACAX) have the \"density\" property?\n",
    "3. What are the dataProductCodes for data products with .mat extension?\n",
    "4. Grab 5 seconds of raw readings from a CTD in location with code JDATF\n",
    "5. Download from the archive all .mp3 files from hydrophones in the location SEVIP in the last hour (downloaded files will apear in the \"output\" directory)\n",
    "6. Download one .mp4 video from a camera at location code RISS"
   ]
  },
  {
   "cell_type": "code",
   "execution_count": null,
   "metadata": {},
   "outputs": [],
   "source": []
  }
 ],
 "metadata": {
  "kernelspec": {
   "display_name": "Python 3",
   "language": "python",
   "name": "python3"
  },
  "language_info": {
   "codemirror_mode": {
    "name": "ipython",
    "version": 3
   },
   "file_extension": ".py",
   "mimetype": "text/x-python",
   "name": "python",
   "nbconvert_exporter": "python",
   "pygments_lexer": "ipython3",
   "version": "3.7.3"
  }
 },
 "nbformat": 4,
 "nbformat_minor": 2
}
