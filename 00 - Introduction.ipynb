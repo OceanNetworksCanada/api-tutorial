{
 "cells": [
  {
   "cell_type": "markdown",
   "metadata": {},
   "source": [
    "# A gentle introduction to the Oceans 2.0 API\n",
    "\n",
    "This series of interactive notebooks pretends to serve as introduction to ONC's Oceans 2.0 API and its client libraries. It discusses both theoretical concepts and hands-on approaches to begginers, not requiring a strong foundation on programming (although basic familiarity is expected).\n",
    "\n",
    "Although by the nature of Jupyter (and syzygy.ca) this guide mainly contains code examples in Python, rest assured that all code examples work the same in MATLAB and R, as the client libraries are developed with a strong emphasis on uniformity."
   ]
  },
  {
   "cell_type": "code",
   "execution_count": null,
   "metadata": {},
   "outputs": [],
   "source": []
  }
 ],
 "metadata": {
  "kernelspec": {
   "display_name": "Python 3 (ipykernel)",
   "language": "python",
   "name": "python3"
  },
  "language_info": {
   "codemirror_mode": {
    "name": "ipython",
    "version": 3
   },
   "file_extension": ".py",
   "mimetype": "text/x-python",
   "name": "python",
   "nbconvert_exporter": "python",
   "pygments_lexer": "ipython3",
   "version": "3.11.2"
  }
 },
 "nbformat": 4,
 "nbformat_minor": 2
}
